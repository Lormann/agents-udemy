{
 "cells": [
  {
   "cell_type": "markdown",
   "metadata": {},
   "source": [
    "# Welcome to the start of your adventure in Agentic AI"
   ]
  },
  {
   "cell_type": "markdown",
   "metadata": {},
   "source": [
    "<table style=\"margin: 0; text-align: left; width:100%\">\n",
    "    <tr>\n",
    "        <td style=\"width: 150px; height: 150px; vertical-align: middle;\">\n",
    "            <img src=\"../assets/stop.png\" width=\"150\" height=\"150\" style=\"display: block;\" />\n",
    "        </td>\n",
    "        <td>\n",
    "            <h2 style=\"color:#ff7800;\">Are you ready for action??</h2>\n",
    "            <span style=\"color:#ff7800;\">Have you completed all the setup steps in the <a href=\"../setup/\">setup</a> folder?<br/>\n",
    "            Have you checked out the guides in the <a href=\"../guides/01_intro.ipynb\">guides</a> folder?<br/>\n",
    "            Well in that case, you're ready!!\n",
    "            </span>\n",
    "        </td>\n",
    "    </tr>\n",
    "</table>"
   ]
  },
  {
   "cell_type": "markdown",
   "metadata": {},
   "source": [
    "<table style=\"margin: 0; text-align: left; width:100%\">\n",
    "    <tr>\n",
    "        <td style=\"width: 150px; height: 150px; vertical-align: middle;\">\n",
    "            <img src=\"../assets/tools.png\" width=\"150\" height=\"150\" style=\"display: block;\" />\n",
    "        </td>\n",
    "        <td>\n",
    "            <h2 style=\"color:#00bfff;\">This code is a live resource - keep an eye out for my updates</h2>\n",
    "            <span style=\"color:#00bfff;\">I push updates regularly. As people ask questions or have problems, I add more examples and improve explanations. As a result, the code below might not be identical to the videos, as I've added more steps and better comments. Consider this like an interactive book that accompanies the lectures.<br/><br/>\n",
    "            I try to send emails regularly with important updates related to the course. You can find this in the 'Announcements' section of Udemy in the left sidebar. You can also choose to receive my emails via your Notification Settings in Udemy. I'm respectful of your inbox and always try to add value with my emails!\n",
    "            </span>\n",
    "        </td>\n",
    "    </tr>\n",
    "</table>"
   ]
  },
  {
   "cell_type": "markdown",
   "metadata": {},
   "source": [
    "### And please do remember to contact me if I can help\n",
    "\n",
    "And I love to connect: https://www.linkedin.com/in/eddonner/\n",
    "\n",
    "\n",
    "### New to Notebooks like this one? Head over to the guides folder!\n",
    "\n",
    "Just to check you've already added the Python and Jupyter extensions to Cursor, if not already installed:\n",
    "- Open extensions (View >> extensions)\n",
    "- Search for python, and when the results show, click on the ms-python one, and Install it if not already installed\n",
    "- Search for jupyter, and when the results show, click on the Microsoft one, and Install it if not already installed  \n",
    "Then View >> Explorer to bring back the File Explorer.\n",
    "\n",
    "And then:\n",
    "1. Click where it says \"Select Kernel\" near the top right, and select the option called `.venv (Python 3.12.9)` or similar, which should be the first choice or the most prominent choice. You may need to choose \"Python Environments\" first.\n",
    "2. Click in each \"cell\" below, starting with the cell immediately below this text, and press Shift+Enter to run\n",
    "3. Enjoy!\n",
    "\n",
    "After you click \"Select Kernel\", if there is no option like `.venv (Python 3.12.9)` then please do the following:  \n",
    "1. On Mac: From the Cursor menu, choose Settings >> VS Code Settings (NOTE: be sure to select `VSCode Settings` not `Cursor Settings`);  \n",
    "On Windows PC: From the File menu, choose Preferences >> VS Code Settings(NOTE: be sure to select `VSCode Settings` not `Cursor Settings`)  \n",
    "2. In the Settings search bar, type \"venv\"  \n",
    "3. In the field \"Path to folder with a list of Virtual Environments\" put the path to the project root, like C:\\Users\\username\\projects\\agents (on a Windows PC) or /Users/username/projects/agents (on Mac or Linux).  \n",
    "And then try again.\n",
    "\n",
    "Having problems with missing Python versions in that list? Have you ever used Anaconda before? It might be interferring. Quit Cursor, bring up a new command line, and make sure that your Anaconda environment is deactivated:    \n",
    "`conda deactivate`  \n",
    "And if you still have any problems with conda and python versions, it's possible that you will need to run this too:  \n",
    "`conda config --set auto_activate_base false`  \n",
    "and then from within the Agents directory, you should be able to run `uv python list` and see the Python 3.12 version."
   ]
  },
  {
   "cell_type": "code",
   "execution_count": 1,
   "metadata": {},
   "outputs": [],
   "source": [
    "# First let's do an import\n",
    "from dotenv import load_dotenv\n"
   ]
  },
  {
   "cell_type": "code",
   "execution_count": 2,
   "metadata": {},
   "outputs": [
    {
     "data": {
      "text/plain": [
       "True"
      ]
     },
     "execution_count": 2,
     "metadata": {},
     "output_type": "execute_result"
    }
   ],
   "source": [
    "# Next it's time to load the API keys into environment variables\n",
    "\n",
    "load_dotenv(override=True)"
   ]
  },
  {
   "cell_type": "code",
   "execution_count": 3,
   "metadata": {},
   "outputs": [
    {
     "name": "stdout",
     "output_type": "stream",
     "text": [
      "OpenAI API Key exists and begins sk-proj-\n"
     ]
    }
   ],
   "source": [
    "# Check the keys\n",
    "\n",
    "import os\n",
    "openai_api_key = os.getenv('OPENAI_API_KEY')\n",
    "\n",
    "if openai_api_key:\n",
    "    print(f\"OpenAI API Key exists and begins {openai_api_key[:8]}\")\n",
    "else:\n",
    "    print(\"OpenAI API Key not set - please head to the troubleshooting guide in the setup folder\")\n",
    "    \n"
   ]
  },
  {
   "cell_type": "code",
   "execution_count": 4,
   "metadata": {},
   "outputs": [],
   "source": [
    "# And now - the all important import statement\n",
    "# If you get an import error - head over to troubleshooting guide\n",
    "\n",
    "from openai import OpenAI"
   ]
  },
  {
   "cell_type": "code",
   "execution_count": 5,
   "metadata": {},
   "outputs": [],
   "source": [
    "# And now we'll create an instance of the OpenAI class\n",
    "# If you're not sure what it means to create an instance of a class - head over to the guides folder!\n",
    "# If you get a NameError - head over to the guides folder to learn about NameErrors\n",
    "\n",
    "openai = OpenAI()"
   ]
  },
  {
   "cell_type": "code",
   "execution_count": 6,
   "metadata": {},
   "outputs": [],
   "source": [
    "# Create a list of messages in the familiar OpenAI format\n",
    "\n",
    "messages = [{\"role\": \"user\", \"content\": \"What is 2+2?\"}]"
   ]
  },
  {
   "cell_type": "code",
   "execution_count": 7,
   "metadata": {},
   "outputs": [
    {
     "name": "stdout",
     "output_type": "stream",
     "text": [
      "2 + 2 equals 4.\n"
     ]
    }
   ],
   "source": [
    "# And now call it! Any problems, head to the troubleshooting guide\n",
    "# This uses GPT 4.1 nano, the incredibly cheap model\n",
    "\n",
    "response = openai.chat.completions.create(\n",
    "    model=\"gpt-4.1-nano\",\n",
    "    messages=messages\n",
    ")\n",
    "\n",
    "print(response.choices[0].message.content)\n"
   ]
  },
  {
   "cell_type": "code",
   "execution_count": 8,
   "metadata": {},
   "outputs": [],
   "source": [
    "# And now - let's ask for a question:\n",
    "\n",
    "question = \"Please propose a hard, challenging question to assess someone's IQ. Respond only with the question.\"\n",
    "messages = [{\"role\": \"user\", \"content\": question}]\n"
   ]
  },
  {
   "cell_type": "code",
   "execution_count": 9,
   "metadata": {},
   "outputs": [
    {
     "name": "stdout",
     "output_type": "stream",
     "text": [
      "If two trains start from the same station at the same time, one traveling east at 60 mph and the other traveling west at 40 mph, a bird starts flying from the eastbound train toward the westbound train at 90 mph. When the bird reaches the westbound train, it immediately turns around and flies back to the eastbound train, and continues this back-and-forth pattern until the trains pass each other. How far does the bird travel before the trains pass?\n"
     ]
    }
   ],
   "source": [
    "# ask it - this uses GPT 4.1 mini, still cheap but more powerful than nano\n",
    "\n",
    "response = openai.chat.completions.create(\n",
    "    model=\"gpt-4.1-mini\",\n",
    "    messages=messages\n",
    ")\n",
    "\n",
    "question = response.choices[0].message.content\n",
    "\n",
    "print(question)\n"
   ]
  },
  {
   "cell_type": "code",
   "execution_count": 10,
   "metadata": {},
   "outputs": [],
   "source": [
    "# form a new messages list\n",
    "messages = [{\"role\": \"user\", \"content\": question}]\n"
   ]
  },
  {
   "cell_type": "code",
   "execution_count": 11,
   "metadata": {},
   "outputs": [
    {
     "name": "stdout",
     "output_type": "stream",
     "text": [
      "Let's analyze the problem step-by-step.\n",
      "\n",
      "---\n",
      "\n",
      "### Given:\n",
      "- Two trains start from the same station at the same time.\n",
      "- Train A travels east at 60 mph.\n",
      "- Train B travels west at 40 mph.\n",
      "- A bird starts flying from Train A towards Train B at 90 mph.\n",
      "- When the bird reaches either train, it immediately turns around and flies towards the other train.\n",
      "- This back-and-forth continues until the trains pass each other.\n",
      "\n",
      "### Goal:\n",
      "Find the total distance traveled by the bird before the trains meet.\n",
      "\n",
      "---\n",
      "\n",
      "### Step 1: Find the time until the trains pass each other.\n",
      "\n",
      "- Since the trains start from the same station and travel in opposite directions, the distance between them grows at the rate of (60 + 40) = 100 mph.\n",
      "\n",
      "- The trains pass each other when their distance apart is zero — but they're moving away in opposite directions, so they start together and get farther apart (actually, \"passing each other\" means when they meet again, but since they start at the same place moving in opposite directions, they never meet again).\n",
      "\n",
      "**Wait:** The problem states \"until the trains pass each other.\" Given they start at the same station at the same time but travel in opposite directions, they will move away from each other, so they'll never \"pass\" each other again.\n",
      "\n",
      "---\n",
      "\n",
      "### Is the problem statement meant to imply something else?\n",
      "\n",
      "**Alternate interpretation:** Perhaps one train is traveling east and the other west, starting at different stations, meeting at some point.\n",
      "\n",
      "But the problem says the trains start from the same station at the same time, which means they start together.\n",
      "\n",
      "In that case, they are diverging, so the bird will fly back-and-forth while the trains move apart forever.\n",
      "\n",
      "Another interpretation is that one train travels east at 60 mph, the other east at 40 mph westbound — likely the other train travels west on a parallel track starting at a station some *distance* away.\n",
      "\n",
      "---\n",
      "\n",
      "**Because otherwise, the bird would fly infinitely.**\n",
      "\n",
      "---\n",
      "\n",
      "### Often, the classic problem is:\n",
      "\n",
      "Two trains start at stations 120 miles apart, moving towards each other at speeds 60 mph and 40 mph respectively.\n",
      "\n",
      "A bird starts flying from one train towards the other at 90 mph, and flies back and forth until the trains meet.\n",
      "\n",
      "---\n",
      "\n",
      "Assuming the distance between trains initially is **D** miles, the problem can be solved easily.\n",
      "\n",
      "---\n",
      "\n",
      "### Re-stating problem (classic version):\n",
      "\n",
      "Two trains start at the same time from two points 120 miles apart, traveling towards each other at 60 mph and 40 mph.\n",
      "\n",
      "Bird speeds at 90 mph, flies back and forth between the trains until they meet.\n",
      "\n",
      "How far has the bird flown?\n",
      "\n",
      "---\n",
      "\n",
      "### Step 1:\n",
      "\n",
      "The trains close in at a combined speed: 60 + 40 = 100 mph\n",
      "\n",
      "---\n",
      "\n",
      "### Step 2:\n",
      "\n",
      "Time before trains meet:\n",
      "\n",
      "\\[\n",
      "t = \\frac{\\text{distance}}{\\text{closing speed}} = \\frac{120}{100} = 1.2 \\text{ hours}\n",
      "\\]\n",
      "\n",
      "---\n",
      "\n",
      "### Step 3:\n",
      "\n",
      "Distance the bird flies:\n",
      "\n",
      "\\[\n",
      "d = \\text{bird speed} \\times t = 90 \\times 1.2 = 108 \\text{ miles}\n",
      "\\]\n",
      "\n",
      "---\n",
      "\n",
      "### If *no* initial distance was given, and the trains start from the same station going in opposite directions, the trains never meet again and the bird flies indefinitely.\n",
      "\n",
      "---\n",
      "\n",
      "### Summarizing:\n",
      "\n",
      "- If the trains start **at the same station going opposite directions**, the bird keeps flying forever; no meeting time.\n",
      "\n",
      "- If the trains start at two points a known distance apart, traveling towards each other at 60 and 40 mph, the total flying time of the bird is the time the trains take to meet.\n",
      "\n",
      "- The total distance bird flies is:  \n",
      "\\[\n",
      "\\text{bird speed} \\times \\frac{\\text{initial distance}}{60 + 40}\n",
      "\\]\n",
      "\n",
      "---\n",
      "\n",
      "### Final answer:\n",
      "\n",
      "If no initial distance \\( D \\) is given, the problem cannot be solved unless we assume an initial distance between the two trains.\n",
      "\n",
      "If initial distance is \\( D \\), then:\n",
      "\n",
      "\\[\n",
      "\\boxed{\n",
      "\\text{Distance flown by bird} = 90 \\times \\frac{D}{100} = \\frac{90D}{100} = 0.9D\n",
      "}\n",
      "\\]\n",
      "\n",
      "---\n",
      "\n",
      "**Therefore**, the bird flies 0.9 times the initial distance between the two trains before they meet.\n",
      "\n",
      "---\n",
      "\n",
      "If you can provide the initial distance between the trains, I can give a numerical answer.\n",
      "\n",
      "---\n",
      "\n",
      "### Summary for the user:\n",
      "\n",
      "- Assuming the trains start at the same position going opposite ways, the bird flies forever.\n",
      "- If the trains start some distance apart and move toward each other at 60 and 40 mph, the bird flies a total of 0.9 times that starting distance before they meet.\n"
     ]
    }
   ],
   "source": [
    "# Ask it again\n",
    "\n",
    "response = openai.chat.completions.create(\n",
    "    model=\"gpt-4.1-mini\",\n",
    "    messages=messages\n",
    ")\n",
    "\n",
    "answer = response.choices[0].message.content\n",
    "print(answer)\n"
   ]
  },
  {
   "cell_type": "code",
   "execution_count": 12,
   "metadata": {},
   "outputs": [
    {
     "data": {
      "text/markdown": [
       "Let's analyze the problem step-by-step.\n",
       "\n",
       "---\n",
       "\n",
       "### Given:\n",
       "- Two trains start from the same station at the same time.\n",
       "- Train A travels east at 60 mph.\n",
       "- Train B travels west at 40 mph.\n",
       "- A bird starts flying from Train A towards Train B at 90 mph.\n",
       "- When the bird reaches either train, it immediately turns around and flies towards the other train.\n",
       "- This back-and-forth continues until the trains pass each other.\n",
       "\n",
       "### Goal:\n",
       "Find the total distance traveled by the bird before the trains meet.\n",
       "\n",
       "---\n",
       "\n",
       "### Step 1: Find the time until the trains pass each other.\n",
       "\n",
       "- Since the trains start from the same station and travel in opposite directions, the distance between them grows at the rate of (60 + 40) = 100 mph.\n",
       "\n",
       "- The trains pass each other when their distance apart is zero — but they're moving away in opposite directions, so they start together and get farther apart (actually, \"passing each other\" means when they meet again, but since they start at the same place moving in opposite directions, they never meet again).\n",
       "\n",
       "**Wait:** The problem states \"until the trains pass each other.\" Given they start at the same station at the same time but travel in opposite directions, they will move away from each other, so they'll never \"pass\" each other again.\n",
       "\n",
       "---\n",
       "\n",
       "### Is the problem statement meant to imply something else?\n",
       "\n",
       "**Alternate interpretation:** Perhaps one train is traveling east and the other west, starting at different stations, meeting at some point.\n",
       "\n",
       "But the problem says the trains start from the same station at the same time, which means they start together.\n",
       "\n",
       "In that case, they are diverging, so the bird will fly back-and-forth while the trains move apart forever.\n",
       "\n",
       "Another interpretation is that one train travels east at 60 mph, the other east at 40 mph westbound — likely the other train travels west on a parallel track starting at a station some *distance* away.\n",
       "\n",
       "---\n",
       "\n",
       "**Because otherwise, the bird would fly infinitely.**\n",
       "\n",
       "---\n",
       "\n",
       "### Often, the classic problem is:\n",
       "\n",
       "Two trains start at stations 120 miles apart, moving towards each other at speeds 60 mph and 40 mph respectively.\n",
       "\n",
       "A bird starts flying from one train towards the other at 90 mph, and flies back and forth until the trains meet.\n",
       "\n",
       "---\n",
       "\n",
       "Assuming the distance between trains initially is **D** miles, the problem can be solved easily.\n",
       "\n",
       "---\n",
       "\n",
       "### Re-stating problem (classic version):\n",
       "\n",
       "Two trains start at the same time from two points 120 miles apart, traveling towards each other at 60 mph and 40 mph.\n",
       "\n",
       "Bird speeds at 90 mph, flies back and forth between the trains until they meet.\n",
       "\n",
       "How far has the bird flown?\n",
       "\n",
       "---\n",
       "\n",
       "### Step 1:\n",
       "\n",
       "The trains close in at a combined speed: 60 + 40 = 100 mph\n",
       "\n",
       "---\n",
       "\n",
       "### Step 2:\n",
       "\n",
       "Time before trains meet:\n",
       "\n",
       "\\[\n",
       "t = \\frac{\\text{distance}}{\\text{closing speed}} = \\frac{120}{100} = 1.2 \\text{ hours}\n",
       "\\]\n",
       "\n",
       "---\n",
       "\n",
       "### Step 3:\n",
       "\n",
       "Distance the bird flies:\n",
       "\n",
       "\\[\n",
       "d = \\text{bird speed} \\times t = 90 \\times 1.2 = 108 \\text{ miles}\n",
       "\\]\n",
       "\n",
       "---\n",
       "\n",
       "### If *no* initial distance was given, and the trains start from the same station going in opposite directions, the trains never meet again and the bird flies indefinitely.\n",
       "\n",
       "---\n",
       "\n",
       "### Summarizing:\n",
       "\n",
       "- If the trains start **at the same station going opposite directions**, the bird keeps flying forever; no meeting time.\n",
       "\n",
       "- If the trains start at two points a known distance apart, traveling towards each other at 60 and 40 mph, the total flying time of the bird is the time the trains take to meet.\n",
       "\n",
       "- The total distance bird flies is:  \n",
       "\\[\n",
       "\\text{bird speed} \\times \\frac{\\text{initial distance}}{60 + 40}\n",
       "\\]\n",
       "\n",
       "---\n",
       "\n",
       "### Final answer:\n",
       "\n",
       "If no initial distance \\( D \\) is given, the problem cannot be solved unless we assume an initial distance between the two trains.\n",
       "\n",
       "If initial distance is \\( D \\), then:\n",
       "\n",
       "\\[\n",
       "\\boxed{\n",
       "\\text{Distance flown by bird} = 90 \\times \\frac{D}{100} = \\frac{90D}{100} = 0.9D\n",
       "}\n",
       "\\]\n",
       "\n",
       "---\n",
       "\n",
       "**Therefore**, the bird flies 0.9 times the initial distance between the two trains before they meet.\n",
       "\n",
       "---\n",
       "\n",
       "If you can provide the initial distance between the trains, I can give a numerical answer.\n",
       "\n",
       "---\n",
       "\n",
       "### Summary for the user:\n",
       "\n",
       "- Assuming the trains start at the same position going opposite ways, the bird flies forever.\n",
       "- If the trains start some distance apart and move toward each other at 60 and 40 mph, the bird flies a total of 0.9 times that starting distance before they meet."
      ],
      "text/plain": [
       "<IPython.core.display.Markdown object>"
      ]
     },
     "metadata": {},
     "output_type": "display_data"
    }
   ],
   "source": [
    "from IPython.display import Markdown, display\n",
    "\n",
    "display(Markdown(answer))\n",
    "\n"
   ]
  },
  {
   "cell_type": "markdown",
   "metadata": {},
   "source": [
    "# Congratulations!\n",
    "\n",
    "That was a small, simple step in the direction of Agentic AI, with your new environment!\n",
    "\n",
    "Next time things get more interesting..."
   ]
  },
  {
   "cell_type": "markdown",
   "metadata": {},
   "source": [
    "<table style=\"margin: 0; text-align: left; width:100%\">\n",
    "    <tr>\n",
    "        <td style=\"width: 150px; height: 150px; vertical-align: middle;\">\n",
    "            <img src=\"../assets/exercise.png\" width=\"150\" height=\"150\" style=\"display: block;\" />\n",
    "        </td>\n",
    "        <td>\n",
    "            <h2 style=\"color:#ff7800;\">Exercise</h2>\n",
    "            <span style=\"color:#ff7800;\">Now try this commercial application:<br/>\n",
    "            First ask the LLM to pick a business area that might be worth exploring for an Agentic AI opportunity.<br/>\n",
    "            Then ask the LLM to present a pain-point in that industry - something challenging that might be ripe for an Agentic solution.<br/>\n",
    "            Finally have 3 third LLM call propose the Agentic AI solution.\n",
    "            </span>\n",
    "        </td>\n",
    "    </tr>\n",
    "</table>"
   ]
  },
  {
   "cell_type": "code",
   "execution_count": null,
   "metadata": {},
   "outputs": [],
   "source": [
    "# First create the messages:\n",
    "\n",
    "messages = [{\"role\": \"user\", \"content\": \"Something here\"}]\n",
    "\n",
    "# Then make the first call:\n",
    "\n",
    "response =\n",
    "\n",
    "# Then read the business idea:\n",
    "\n",
    "business_idea = response.\n",
    "\n",
    "# And repeat!"
   ]
  },
  {
   "cell_type": "code",
   "execution_count": 23,
   "metadata": {},
   "outputs": [],
   "source": [
    "# First create the messages:\n",
    "\n",
    "messages = [{\"role\": \"user\", \"content\": \"請提出一個Agent/LLM AI 的商業應用系統,在企業導入時，SI專案或方案的計費方式問題\"}]"
   ]
  },
  {
   "cell_type": "code",
   "execution_count": 24,
   "metadata": {},
   "outputs": [
    {
     "data": {
      "text/markdown": [
       "當企業導入以Agent或大型語言模型（LLM）為核心的AI商業應用系統時，SI（系統整合）專案或方案的計費方式是重要考量，因為AI系統的開發與後續運營模型與傳統軟體差異較大。以下是一個完整的方案說明，包括系統簡述與適合的計費模式建議：\n",
       "\n",
       "---\n",
       "\n",
       "## 商業應用系統示例：AI智能客服與業務助理系統\n",
       "\n",
       "**系統簡述：**  \n",
       "企業導入基於大型語言模型（LLM）的智能客服與業務助理系統，該系統結合多輪對話Agent能力，用於即時回應客戶問題、產品推薦、自動工單建立及內部業務流程輔助。系統可連接企業後端CRM、ERP、知識庫，並且具備持續的模型微調與優化能力。\n",
       "\n",
       "---\n",
       "\n",
       "## SI專案及方案計費方式建議\n",
       "\n",
       "### 1. 專案階段計費（實施導入階段）\n",
       "- **需求分析與規劃階段（Fixed Fee）**  \n",
       "  先針對企業業務流程及用例進行需求訪談、AI應用可行性分析、資料準備規劃，收取固定費用，避免前期無止境變更。\n",
       "\n",
       "- **系統開發與集成（Time & Material 或階段里程碑付款）**  \n",
       "  包含API串接、界面開發、模型定制化及訓練，依工作量與複雜度，推薦以「時薪工時制」或分階段達成交付成果計費：  \n",
       "  - 第一階段：最低可用產品（MVP）完成付款20%-30%  \n",
       "  - 第二階段：完成正確率目標與集成測試付款30%-40%  \n",
       "  - 第三階段：系統上線與驗收付款30%\n",
       "\n",
       "- **資料收集與標註（依標註量計費）**  \n",
       "  若需協助標註資料以微調模型，可依標註文本數量或標註複雜度收費。\n",
       "\n",
       "### 2. 後續運營及持續優化計費方式\n",
       "- **模型使用授權費（License Fee）**  \n",
       "  依使用頻率或並發量，企業支付固定月費或年度授權費。  \n",
       "  - 例如：依對話數量、API調用次數分級計費。  \n",
       "  - 也可結合「基本使用額度 + 超額計費」模式。\n",
       "\n",
       "- **運維及技術支持（Support Fee）**  \n",
       "  可訂立SLA，收取月度或季度固定技術支持費用，包括系統監控、問題排查及版本升級。\n",
       "\n",
       "- **持續微調及模型再訓練服務（服務型訂閱費用）**  \n",
       "  針對企業產品或客戶反饋不斷收集數據，提供定期微調服務，依服務深度與頻率計費。\n",
       "\n",
       "### 3. 成果導向激勵（Performance-based Fee）\n",
       "- 若AI系統目標明確，例如提升客服解決率、縮短回應時間、提高業務成交率等，可設計部分績效掛鉤的計費方案，按達成度付費增加，激勵供應商持續優化。\n",
       "\n",
       "---\n",
       "\n",
       "## 小結\n",
       "\n",
       "| 計費項目               | 建議模式                               | 說明                                     |\n",
       "|--------------------------|--------------------------------------|------------------------------------------|\n",
       "| 需求分析與規劃           | 固定費用                             | 明確需求及範圍，避免無效溝通與風險       |\n",
       "| 系統開發及集成           | 時薪工時 / 階段里程碑付款            | 根據交付進度收款，確保專案透明與掌控     |\n",
       "| 資料標註                 | 按標註文本量計費                     | 協助資料衍生與高質量微調基礎             |\n",
       "| 模型使用授權             | 月費/年費 + 超額使用計費             | 粉絲式持續使用與計價，符合雲服務模式     |\n",
       "| 系統運維與支持           | 定額支持費用                         | 保持穩定性與快速反應                     |\n",
       "| 持續微調/升級服務       | 服務類訂閱制                         | 持續改善，提升系統智能度                   |\n",
       "| 績效掛鉤費 (可選)         | 成效導向分成或獎金                   | 激發服務商與企業共贏                      |\n",
       "\n",
       "---\n",
       "\n",
       "若需，我可幫忙設計更具體的合約範本與費用試算模型，或針對特定行業(如金融、零售、製造)調整方案細節。希望以上整體說明有助您評估Agent/LLM AI導入的SI專案計費策略。"
      ],
      "text/plain": [
       "<IPython.core.display.Markdown object>"
      ]
     },
     "metadata": {},
     "output_type": "display_data"
    }
   ],
   "source": [
    "# ask it - this uses GPT 4.1 mini, still cheap but more powerful than nano\n",
    "\n",
    "response = openai.chat.completions.create(\n",
    "    model=\"gpt-4.1-mini\",\n",
    "    messages=messages\n",
    ")\n",
    "\n",
    "question = response.choices[0].message.content\n",
    "\n",
    "# print(question)\n",
    "from IPython.display import Markdown, display\n",
    "\n",
    "display(Markdown(question))"
   ]
  },
  {
   "cell_type": "code",
   "execution_count": 25,
   "metadata": {},
   "outputs": [
    {
     "data": {
      "text/plain": [
       "[{'role': 'user',\n",
       "  'content': '當企業導入以Agent或大型語言模型（LLM）為核心的AI商業應用系統時，SI（系統整合）專案或方案的計費方式是重要考量，因為AI系統的開發與後續運營模型與傳統軟體差異較大。以下是一個完整的方案說明，包括系統簡述與適合的計費模式建議：\\n\\n---\\n\\n## 商業應用系統示例：AI智能客服與業務助理系統\\n\\n**系統簡述：**  \\n企業導入基於大型語言模型（LLM）的智能客服與業務助理系統，該系統結合多輪對話Agent能力，用於即時回應客戶問題、產品推薦、自動工單建立及內部業務流程輔助。系統可連接企業後端CRM、ERP、知識庫，並且具備持續的模型微調與優化能力。\\n\\n---\\n\\n## SI專案及方案計費方式建議\\n\\n### 1. 專案階段計費（實施導入階段）\\n- **需求分析與規劃階段（Fixed Fee）**  \\n  先針對企業業務流程及用例進行需求訪談、AI應用可行性分析、資料準備規劃，收取固定費用，避免前期無止境變更。\\n\\n- **系統開發與集成（Time & Material 或階段里程碑付款）**  \\n  包含API串接、界面開發、模型定制化及訓練，依工作量與複雜度，推薦以「時薪工時制」或分階段達成交付成果計費：  \\n  - 第一階段：最低可用產品（MVP）完成付款20%-30%  \\n  - 第二階段：完成正確率目標與集成測試付款30%-40%  \\n  - 第三階段：系統上線與驗收付款30%\\n\\n- **資料收集與標註（依標註量計費）**  \\n  若需協助標註資料以微調模型，可依標註文本數量或標註複雜度收費。\\n\\n### 2. 後續運營及持續優化計費方式\\n- **模型使用授權費（License Fee）**  \\n  依使用頻率或並發量，企業支付固定月費或年度授權費。  \\n  - 例如：依對話數量、API調用次數分級計費。  \\n  - 也可結合「基本使用額度 + 超額計費」模式。\\n\\n- **運維及技術支持（Support Fee）**  \\n  可訂立SLA，收取月度或季度固定技術支持費用，包括系統監控、問題排查及版本升級。\\n\\n- **持續微調及模型再訓練服務（服務型訂閱費用）**  \\n  針對企業產品或客戶反饋不斷收集數據，提供定期微調服務，依服務深度與頻率計費。\\n\\n### 3. 成果導向激勵（Performance-based Fee）\\n- 若AI系統目標明確，例如提升客服解決率、縮短回應時間、提高業務成交率等，可設計部分績效掛鉤的計費方案，按達成度付費增加，激勵供應商持續優化。\\n\\n---\\n\\n## 小結\\n\\n| 計費項目               | 建議模式                               | 說明                                     |\\n|--------------------------|--------------------------------------|------------------------------------------|\\n| 需求分析與規劃           | 固定費用                             | 明確需求及範圍，避免無效溝通與風險       |\\n| 系統開發及集成           | 時薪工時 / 階段里程碑付款            | 根據交付進度收款，確保專案透明與掌控     |\\n| 資料標註                 | 按標註文本量計費                     | 協助資料衍生與高質量微調基礎             |\\n| 模型使用授權             | 月費/年費 + 超額使用計費             | 粉絲式持續使用與計價，符合雲服務模式     |\\n| 系統運維與支持           | 定額支持費用                         | 保持穩定性與快速反應                     |\\n| 持續微調/升級服務       | 服務類訂閱制                         | 持續改善，提升系統智能度                   |\\n| 績效掛鉤費 (可選)         | 成效導向分成或獎金                   | 激發服務商與企業共贏                      |\\n\\n---\\n\\n若需，我可幫忙設計更具體的合約範本與費用試算模型，或針對特定行業(如金融、零售、製造)調整方案細節。希望以上整體說明有助您評估Agent/LLM AI導入的SI專案計費策略。'}]"
      ]
     },
     "execution_count": 25,
     "metadata": {},
     "output_type": "execute_result"
    }
   ],
   "source": [
    "# form a new messages list\n",
    "questiion=\"幫忙設計更具體的合約範本與費用試算模型，或針對特定行業(媒體行銷行業)調整方案細節\"\n",
    "messages = [{\"role\": \"user\", \"content\": question}]\n",
    "messages"
   ]
  },
  {
   "cell_type": "code",
   "execution_count": 26,
   "metadata": {},
   "outputs": [
    {
     "data": {
      "text/markdown": [
       "您好，您的方案規劃非常完整且符合現階段企業導入Agent或大型語言模型（LLM）核心AI系統的實務需求，是SI專案計費設計上的很棒藍圖。在此，我補充一些進一步的說明與建議，供您參考：\n",
       "\n",
       "---\n",
       "\n",
       "### 進階建議與補充\n",
       "\n",
       "1. **專案階段的風險控管與變更管理**  \n",
       "   - 建議需求階段明訂變更流程及變更評估費用，防範AI專案需求或者模型設計在開發中大幅變動，導致成本超支。  \n",
       "   - 大型語言模型調整時期與範圍不易預估，盡量拆分小里程碑並搭配驗收條件，提升階段性可控性。\n",
       "\n",
       "2. **資料權屬與隱私合規**  \n",
       "   - 資料收集及標註階段，需明確合約規範資料權限與使用範圍，尤其涉及敏感資訊（如金融、醫療），須遵守相關法規（GDPR、個資法等）。  \n",
       "   - 若企業提供的資料需同時用於模型訓練和微調，合約中應明確資料保護與脫敏標準。\n",
       "\n",
       "3. **模型能力與服務等級協議（SLA）**  \n",
       "   - AI系統在部署後，建議與客戶約定明確的服務標準（如回應時間、可用率、效果指標等）並納入合約，服務支持費用即可反映SLA要求。  \n",
       "   - 若模型性能未達標可討論補救方案，甚至包含違約責任條款。\n",
       "\n",
       "4. **彈性計費：預付額度+超量付費模式適合雲端API服務**  \n",
       "   - 如果系統中有採用第三方API（如OpenAI服務）作為核心元件，SI廠商可設計月度或年度「預付費用+超出部分另計」模式，分攤雲端計算成本與軟硬體運維壓力。\n",
       "\n",
       "5. **績效激勵計費範例**  \n",
       "   - 可以設計客戶滿意度、第一回合解答達成率或業務成交率等客製化KPI，這類指標可半年度評估，有彈性的激勵方案更能促使供應商持續優化。\n",
       "\n",
       "---\n",
       "\n",
       "### 優化示意表格（簡化版）\n",
       "\n",
       "| 計費項目          | 推薦計費方式         | 重點說明                       |\n",
       "|-------------------|----------------------|-------------------------------|\n",
       "| 需求分析與規劃    | 固定費用             | 內容明確、管控範圍，減少變更   |\n",
       "| 系統開發與集成    | 時薪制/里程碑付款    | 細分階段，階段驗收明確         |\n",
       "| 資料標註          | 按標註量或難度計費   | 考慮品質與數量，避免偽標註     |\n",
       "| 模型使用授權      | 預付額度+超用計費    | 彈性調整，符合雲端計算成本     |\n",
       "| 系統運維與支援    | 固定週期計費         | SLA規範完善，反應速度保障       |\n",
       "| 持續微調/升級服務 | 服務型訂閱制         | 持續優化，適應市場或資料變化   |\n",
       "| 績效掛鉤          | 成果導向分成/獎金    | 實際效果，激勵雙方持續投入     |\n",
       "\n",
       "---\n",
       "\n",
       "如果您有需求，我可以協助製作：  \n",
       "- 具體合約條款範本（含風險控管、資料保護、SLA等）  \n",
       "- 依企業規模與行業背景模擬費用試算（含API成本預估）  \n",
       "- 項目拆分與里程碑交付詳單  \n",
       "\n",
       "歡迎告訴我需要哪方面的協助！"
      ],
      "text/plain": [
       "<IPython.core.display.Markdown object>"
      ]
     },
     "metadata": {},
     "output_type": "display_data"
    }
   ],
   "source": [
    "# Ask it again\n",
    "\n",
    "response = openai.chat.completions.create(\n",
    "    model=\"gpt-4.1-mini\",\n",
    "    messages=messages\n",
    ")\n",
    "\n",
    "answer = response.choices[0].message.content\n",
    "# print(answer)\n",
    "display(Markdown(answer))"
   ]
  },
  {
   "cell_type": "code",
   "execution_count": 20,
   "metadata": {},
   "outputs": [
    {
     "data": {
      "text/markdown": [
       "企業在導入具備自主學習與決策能力的Agent AI時，確實面臨如何平衡自動化與人工監控，以及數據隱私與安全管理的複雜挑戰。以下是一些關鍵策略建議：\n",
       "\n",
       "### 1. 平衡自動化程度與人工監控\n",
       "\n",
       "- **分級自動化設計**：採用漸進式自動化路徑，先讓Agent AI執行低風險、標準化的任務（如常見問題回覆），再逐步增加其決策權限。複雜或高風險情境保留人工審核，避免錯誤決策對品牌形象造成傷害。\n",
       "  \n",
       "- **設置人工介入機制**：建立明確的觸發規則（Thresholds & Escalations），當Agent AI對某些情況的信心值低於標準，或回應涉及敏感資料和合約條款時，自動轉由人工客服接手。\n",
       "\n",
       "- **持續監控與審查**：利用監控儀表板追蹤Agent AI的運行表現及其決策歷程，定期由專業團隊審核重點交互記錄，確保符合準確性與品牌調性。\n",
       "\n",
       "- **人機協作優先**：推動「人機協作」而非完全替代，將AI視為輔助工具，讓人工客服聚焦於更具同理心及創意的互動。\n",
       "\n",
       "### 2. 數據隱私與安全風險管理\n",
       "\n",
       "- **數據最小化原則**：只收集實現服務目標所需的最低限度資料，避免過度采集。\n",
       "\n",
       "- **數據匿名化與加密**：對敏感數據進行加密存儲與傳輸，並在非必要場景使用匿名或偽匿名數據以降低洩漏風險。\n",
       "\n",
       "- **嚴格權限控管**：限定Agent AI訪問數據的類型與範圍，並分階段授權，防止數據被濫用。\n",
       "\n",
       "- **符合法規要求**：遵守GDPR、CCPA等相關法規，定期更新隱私政策與合規流程，並設立數據保護負責人(DPO)。\n",
       "\n",
       "- **安全事件響應機制**：建立數據洩漏或系統異常的快速反應與通報流程，降低潛在損害。\n",
       "\n",
       "### 3. 持續優化與透明溝通\n",
       "\n",
       "- **持續教育與培訓**：定期對相關團隊進行AI倫理、數據保護及系統操作培訓。\n",
       "\n",
       "- **提升模型透明度**：採用可解釋AI(Explainable AI)技術，使企業能理解Agent AI決策依據，增加系統信任度。\n",
       "\n",
       "- **開展用戶反饋機制**：收集用戶意見，定期調整AI回應策略，確保服務品質與品牌形象一致。\n",
       "\n",
       "---\n",
       "\n",
       "**總結**  \n",
       "企業導入Agent AI時，應以漸進式、自動與人工互補的方式推進，確保在提升服務效率的同時不損失準確性與品牌一致性；並通過嚴謹的數據治理及安全措施，保障用戶隱私與整體系統安全。如此方能在智能代理的應用中取得最佳平衡與長遠效益。"
      ],
      "text/plain": [
       "<IPython.core.display.Markdown object>"
      ]
     },
     "metadata": {},
     "output_type": "display_data"
    }
   ],
   "source": [
    "display(Markdown(answer))"
   ]
  },
  {
   "cell_type": "markdown",
   "metadata": {},
   "source": []
  }
 ],
 "metadata": {
  "kernelspec": {
   "display_name": ".venv",
   "language": "python",
   "name": "python3"
  },
  "language_info": {
   "codemirror_mode": {
    "name": "ipython",
    "version": 3
   },
   "file_extension": ".py",
   "mimetype": "text/x-python",
   "name": "python",
   "nbconvert_exporter": "python",
   "pygments_lexer": "ipython3",
   "version": "3.12.6"
  }
 },
 "nbformat": 4,
 "nbformat_minor": 2
}
